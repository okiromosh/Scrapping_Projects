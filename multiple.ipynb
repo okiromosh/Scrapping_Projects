{
 "cells": [
  {
   "cell_type": "code",
   "execution_count": null,
   "id": "01a5bec1",
   "metadata": {},
   "outputs": [],
   "source": [
    "import requests\n",
    "from bs4 import BeautifulSoup\n",
    "import pandas as pd\n",
    "import time"
   ]
  },
  {
   "cell_type": "code",
   "execution_count": null,
   "id": "20923a4a",
   "metadata": {},
   "outputs": [],
   "source": [
    "url = ()\n",
    "headers = ({\"User-Agent\": \"Mozilla/5.0\"})\n",
    "\n",
    "response = requests.get(url=url, headers=headers)\n",
    "print(response)\n"
   ]
  },
  {
   "cell_type": "code",
   "execution_count": null,
   "id": "efbef13b",
   "metadata": {},
   "outputs": [],
   "source": [
    "soup = BeautifulSoup(response.content, 'html.paser')"
   ]
  },
  {
   "cell_type": "code",
   "execution_count": null,
   "id": "65795272",
   "metadata": {},
   "outputs": [],
   "source": [
    "all_products = []\n",
    "for product in soup.select('.product_table'):\n",
    "    name = product.select_one('.product_name').get_text(strip=True)\n",
    "    image = product.select_one('img')['src']\n",
    "    price = product.select_one('.product_price').get_text(strip=True)\n",
    "    product_url = product.select_one('.read_more')['href'] # select read more and use the href tag\n",
    "\n",
    "    # adding each product info to one dict\n",
    "    all_products.append({\n",
    "        'name':name,\n",
    "        'image':image,\n",
    "        'price':price,\n",
    "        'product_url':product_url\n",
    "    })\n",
    "    time.sleep(1)"
   ]
  },
  {
   "cell_type": "code",
   "execution_count": null,
   "id": "1fe762d8",
   "metadata": {},
   "outputs": [],
   "source": [
    "for product in all_products:\n",
    "\n",
    "    # Getting the page data\n",
    "    response_url = product[product_url]\n",
    "    response = requests.get(url=response_url, headers=headers)\n",
    "    soup_1 = BeautifulSoup(response.text, 'html.parser')\n",
    "\n",
    "    # Using page data\n",
    "    manufacturer = soup_1.seect_one('.manufacturer').get_text(strip=True)\n",
    "    material = soup_1.select_one('.material').get_text(strip=True)\n",
    "\n",
    "    all_products.update({\n",
    "        'manufacturer':manufacturer,\n",
    "        'material':material\n",
    "    })\n",
    "    time.sleep(1)"
   ]
  },
  {
   "cell_type": "code",
   "execution_count": null,
   "id": "86ca5d5e",
   "metadata": {},
   "outputs": [],
   "source": [
    "all_products"
   ]
  },
  {
   "cell_type": "code",
   "execution_count": null,
   "id": "8491a55f",
   "metadata": {},
   "outputs": [],
   "source": [
    "df = pd.DataFrame(all_products)\n"
   ]
  },
  {
   "cell_type": "code",
   "execution_count": null,
   "id": "85e6b890",
   "metadata": {},
   "outputs": [],
   "source": [
    "df.to_csv(\"File_Name.csv\", index=False)"
   ]
  },
  {
   "cell_type": "code",
   "execution_count": null,
   "id": "cd22f188",
   "metadata": {},
   "outputs": [],
   "source": []
  }
 ],
 "metadata": {
  "kernelspec": {
   "display_name": "python_data",
   "language": "python",
   "name": "python3"
  },
  "language_info": {
   "name": "python",
   "version": "3.11.11"
  }
 },
 "nbformat": 4,
 "nbformat_minor": 5
}
